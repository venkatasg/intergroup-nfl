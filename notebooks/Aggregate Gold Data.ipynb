{
 "cells": [
  {
   "cell_type": "code",
   "execution_count": 1,
   "id": "2fa8faf4",
   "metadata": {},
   "outputs": [
    {
     "data": {
      "text/plain": [
       "RandomState(MT19937) at 0x318FBCF40"
      ]
     },
     "execution_count": 1,
     "metadata": {},
     "output_type": "execute_result"
    }
   ],
   "source": [
    "import pandas as pd\n",
    "import random\n",
    "import numpy as np\n",
    "from tqdm import tqdm\n",
    "import ipdb\n",
    "import re\n",
    "from glob import glob\n",
    "import json\n",
    "import csv\n",
    "import datetime as dt\n",
    "from copy import deepcopy\n",
    "from collections import Counter\n",
    "from IPython.core.debugger import set_trace\n",
    "\n",
    "import matplotlib.pyplot as plt\n",
    "# import mplcursors\n",
    "import seaborn as sns\n",
    "%matplotlib inline\n",
    "sns.set(style='darkgrid', context='notebook', rc={'figure.figsize':(14,10)}, font_scale=2)\n",
    "\n",
    "from sklearn.preprocessing import MaxAbsScaler\n",
    "scaler = MaxAbsScaler()\n",
    "\n",
    "pd.set_option('display.max_rows', 100)\n",
    "pd.set_option('display.max_columns', 100)\n",
    "pd.set_option('display.width', None)\n",
    "pd.set_option('display.max_colwidth', None)\n",
    "pd.set_option('chained_assignment',None)\n",
    "\n",
    "tqdm.pandas()\n",
    "\n",
    "from nltk.corpus import words\n",
    "word_list = words.words()\n",
    "\n",
    "# Set random seeds for reproducibility on a specific machine\n",
    "random.seed(1)\n",
    "np.random.seed(1)\n",
    "np.random.RandomState(1)"
   ]
  },
  {
   "cell_type": "code",
   "execution_count": 2,
   "id": "ccdf22e2",
   "metadata": {},
   "outputs": [],
   "source": [
    "annotations = []\n",
    "files = glob('thresh-internal/me/game*annotations.json')\n",
    "for file in files:\n",
    "    with open(file, 'r', encoding='utf-8') as f:\n",
    "        annotations += json.load(f)\n",
    "        \n",
    "# files = glob('thresh-internal/random_samples/old/game*annotations.json')\n",
    "# for file in files:\n",
    "#     with open(file, 'r') as f:\n",
    "#         annotations += json.load(f)"
   ]
  },
  {
   "cell_type": "code",
   "execution_count": 3,
   "id": "df550ed2",
   "metadata": {},
   "outputs": [],
   "source": [
    "postinfo = pd.read_csv('../data/postInfo.tsv', sep='\\t')\n",
    "gameinfo = pd.read_csv('../data/gameInfo.tsv', sep='\\t')\n",
    "\n",
    "teaminfo = pd.read_csv('../data/nfl_teams.csv')\n",
    "teaminfo['team_name_short'] = teaminfo['team_name_short'].apply(lambda x: x.lower())\n",
    "\n",
    "teams = teaminfo['team_name_short'].values.tolist()\n",
    "subreddits = teaminfo['subreddit'].values.tolist()\n",
    "\n",
    "teams_to_subreddit = {teams[i]: subreddits[i] for i in range(32)}\n",
    "subreddit_to_teams = {subreddits[i]: teams[i] for i in range(32)}\n",
    "team_names_dict = {x: [x] for x in teams}"
   ]
  },
  {
   "cell_type": "code",
   "execution_count": 4,
   "id": "8a65f08c-ca2b-41fb-8dc0-4bd1a4db02de",
   "metadata": {},
   "outputs": [
    {
     "data": {
      "text/plain": [
       "{'post_id': 'quuhr8',\n",
       " 'comment_id': 'hksqs65',\n",
       " 'source': '[SENT] Lol all the 🤡 saying this team was only going to lose 1 game after the Titans game . ',\n",
       " 'context': \"*source subreddit*: **rams** || *final score*: **49ers 31-10 rams ** || *Date*: **11/15/2021** || *user flair*: Deacon Jones || *parent comment*: No parent comment. || *Prev 2 comments*: Yup. The called the raiders for a penalty yesterday doing what the niners did but no call for us. || why would raheem morris throw a pick 6, lets fire him /s ||  *Next 2 comments*: You guys know that's on Higbee right? || What’s the lions’ record?  Lmao || \",\n",
       " 'edits': [{'category': 'in',\n",
       "   'id': 1,\n",
       "   'annotation': None,\n",
       "   'input_idx': [[29, 38]]},\n",
       "  {'category': 'other', 'id': 1, 'annotation': None, 'input_idx': [[75, 85]]}],\n",
       " '_thresh_id': 3}"
      ]
     },
     "execution_count": 4,
     "metadata": {},
     "output_type": "execute_result"
    }
   ],
   "source": [
    "annotations[2]"
   ]
  },
  {
   "cell_type": "markdown",
   "id": "5e498dce",
   "metadata": {},
   "source": [
    "## Concatenate into one big true test dataframe"
   ]
  },
  {
   "cell_type": "code",
   "execution_count": 5,
   "id": "c5491162",
   "metadata": {
    "editable": true,
    "slideshow": {
     "slide_type": ""
    },
    "tags": []
   },
   "outputs": [
    {
     "name": "stderr",
     "output_type": "stream",
     "text": [
      "100%|██████████████████████████████████████████████████████████████████████████████████████████| 1500/1500 [00:00<00:00, 238937.22it/s]\n"
     ]
    }
   ],
   "source": [
    "ann_df = {'post_id': [], 'comment_id': [], 'tokenized_comment': [], 'tagged_comment': [], 'ref_expressions': [], 'ref_pos': [], 'ref_tags': [], 'confs': []}\n",
    "for ann in tqdm(annotations):\n",
    "    edits = ann['edits']\n",
    "    # Sort it\n",
    "    edits.sort(key=(lambda x: x['input_idx'][0][0]))\n",
    "        \n",
    "    ann_df['post_id'].append(ann['post_id'])\n",
    "    ann_df['comment_id'].append(ann['comment_id'])\n",
    "    tokenized_comment = ann['source']\n",
    "    ann_df['tokenized_comment'].append(tokenized_comment)\n",
    "    \n",
    "    tagged_comment = ''\n",
    "    ref_expressions = []\n",
    "    ref_pos = []\n",
    "    ref_tags = []\n",
    "    confs = []\n",
    "    \n",
    "    for ind, curr_edit in enumerate(edits):\n",
    "        \n",
    "        # Figure out the referring expression for that edit\n",
    "        ref_expr = tokenized_comment[curr_edit['input_idx'][0][0]:curr_edit['input_idx'][0][1]]\n",
    "        \n",
    "        start_pos = curr_edit['input_idx'][0][0]\n",
    "        end_pos = curr_edit['input_idx'][0][1]\n",
    "        \n",
    "        ref_expressions.append(ref_expr)\n",
    "        ref_pos.append((curr_edit['input_idx'][0][0], end_pos))\n",
    "        \n",
    "        ref_tags.append('<' + curr_edit['category'] + '>')\n",
    "        if curr_edit['annotation'] is not None:\n",
    "            # Need to check for conf, since I annotated with 'ref' without conf sometimes\n",
    "            if 'conf' in curr_edit['annotation'].keys():\n",
    "                # set_trace()\n",
    "                confs.append(int(curr_edit['annotation']['conf']['val'].split('_')[-1]))\n",
    "            else:\n",
    "                confs.append(5)\n",
    "        else:\n",
    "            confs.append(5)\n",
    "        # Get the new tagged comment based on edit indices\n",
    "        if ind==0:\n",
    "            tagged_comment = tokenized_comment[:curr_edit['input_idx'][0][0]] + '<' + curr_edit['category'] + '>'\n",
    "            if len(edits)!=1:\n",
    "                next_edit = edits[ind+1]\n",
    "                tagged_comment += tokenized_comment[curr_edit['input_idx'][0][1]:next_edit['input_idx'][0][0]]\n",
    "            else:\n",
    "                tagged_comment += tokenized_comment[curr_edit['input_idx'][0][1]:]\n",
    "        elif ind!=len(edits)-1:\n",
    "            next_edit = edits[ind+1]\n",
    "            tagged_comment += '<' + curr_edit['category'] + '>' + tokenized_comment[curr_edit['input_idx'][0][1]:next_edit['input_idx'][0][0]]\n",
    "        else:\n",
    "            tagged_comment += '<' + curr_edit['category'] + '>' + tokenized_comment[curr_edit['input_idx'][0][1]:]\n",
    "    \n",
    "    ann_df['tagged_comment'].append(tagged_comment)\n",
    "    ann_df['ref_expressions'].append(ref_expressions)\n",
    "    ann_df['ref_tags'].append(ref_tags)\n",
    "    ann_df['ref_pos'].append(ref_pos)\n",
    "    if confs==[]:\n",
    "        confs = [5]\n",
    "    ann_df['confs'].append(confs)"
   ]
  },
  {
   "cell_type": "code",
   "execution_count": 6,
   "id": "4357dd14",
   "metadata": {
    "editable": true,
    "slideshow": {
     "slide_type": ""
    },
    "tags": []
   },
   "outputs": [
    {
     "data": {
      "text/plain": [
       "(1500, 8)"
      ]
     },
     "execution_count": 6,
     "metadata": {},
     "output_type": "execute_result"
    }
   ],
   "source": [
    "ann_df = pd.DataFrame(ann_df)\n",
    "ann_df.shape"
   ]
  },
  {
   "cell_type": "code",
   "execution_count": 7,
   "id": "dd8ac06c-2f42-48f6-8dcf-4f98157b627d",
   "metadata": {},
   "outputs": [
    {
     "data": {
      "text/plain": [
       "(1500, 8)"
      ]
     },
     "execution_count": 7,
     "metadata": {},
     "output_type": "execute_result"
    }
   ],
   "source": [
    "ann_df.drop_duplicates(subset=['post_id', 'comment_id'], keep='first', inplace=True, ignore_index=True)\n",
    "ann_df.shape"
   ]
  },
  {
   "cell_type": "markdown",
   "id": "da4c2589-87f8-43a5-95f2-212c3590eb22",
   "metadata": {},
   "source": [
    "### Exclude the january buffalo game"
   ]
  },
  {
   "cell_type": "code",
   "execution_count": 8,
   "id": "bccc2bae",
   "metadata": {},
   "outputs": [],
   "source": [
    "ann_df = ann_df[~(ann_df.post_id=='101c27x')]"
   ]
  },
  {
   "cell_type": "code",
   "execution_count": 9,
   "id": "cc74c614",
   "metadata": {},
   "outputs": [
    {
     "data": {
      "text/plain": [
       "(1499, 8)"
      ]
     },
     "execution_count": 9,
     "metadata": {},
     "output_type": "execute_result"
    }
   ],
   "source": [
    "ann_df.shape"
   ]
  },
  {
   "cell_type": "code",
   "execution_count": 10,
   "id": "0a3fe758",
   "metadata": {},
   "outputs": [],
   "source": [
    "df = pd.read_csv('../data/game_comments.tsv', sep='\\t', index_col=None, header=0, quoting=csv.QUOTE_NONE, escapechar=\"\\\\\", engine='python')\n",
    "\n",
    "# Some cleanup\n",
    "df['clean_comment'] = df['clean_comment'].astype(str)\n",
    "# df['tokenized_comment'] = df['tokenized_comment'].astype(str)"
   ]
  },
  {
   "cell_type": "code",
   "execution_count": 11,
   "id": "35eb6d20",
   "metadata": {},
   "outputs": [],
   "source": [
    "df['team'] = df['subreddit'].apply(lambda x: subreddit_to_teams[x])"
   ]
  },
  {
   "cell_type": "code",
   "execution_count": 12,
   "id": "f239c594-e6b4-413a-b6f7-13af2bbe4955",
   "metadata": {},
   "outputs": [],
   "source": [
    "df=df.set_index(['post_id', 'comment_id'], drop=False)"
   ]
  },
  {
   "cell_type": "code",
   "execution_count": 13,
   "id": "d64bd033-23dd-40d6-846c-cca53ff2af10",
   "metadata": {},
   "outputs": [
    {
     "data": {
      "text/plain": [
       "1.0"
      ]
     },
     "execution_count": 13,
     "metadata": {},
     "output_type": "execute_result"
    }
   ],
   "source": [
    "df.gametime.max()"
   ]
  },
  {
   "cell_type": "markdown",
   "id": "581560e3",
   "metadata": {},
   "source": [
    "### Add remaining columns needed to this"
   ]
  },
  {
   "cell_type": "code",
   "execution_count": 14,
   "id": "a4a83e32",
   "metadata": {
    "scrolled": true
   },
   "outputs": [],
   "source": [
    "def find_col_values(row):\n",
    "    relevant_comment = df.loc[(row.post_id, row.comment_id)]\n",
    "    return {\n",
    "        'timestamp': relevant_comment['timestamp'],\n",
    "        'parent_id': relevant_comment['parent_id'],\n",
    "        'team': relevant_comment['team'],\n",
    "        'opp': relevant_comment['opp'],\n",
    "        'username': relevant_comment['username'],\n",
    "        'flair': relevant_comment['flair'],\n",
    "        'votes': relevant_comment['votes'], \n",
    "        'gametime': relevant_comment['gametime'],\n",
    "        'win_prob':relevant_comment['win_prob']\n",
    "    }\n",
    "    \n",
    "\n",
    "ann_df[['timestamp', 'parent_id', 'team', 'opp', 'username', 'flair', 'votes', 'gametime', 'win_prob']] = ann_df.apply(lambda row: find_col_values(row), axis='columns', result_type='expand')"
   ]
  },
  {
   "cell_type": "markdown",
   "id": "b484b96b",
   "metadata": {},
   "source": [
    "## Get win prob"
   ]
  },
  {
   "cell_type": "code",
   "execution_count": 15,
   "id": "fe24284e",
   "metadata": {},
   "outputs": [],
   "source": [
    "pbp = pd.read_csv('../data/play_by_play.tsv', sep='\\t', low_memory=False)\n",
    "\n",
    "def get_utc_timestamp(row):\n",
    "    tod = row['time_of_day']\n",
    "    date = row['game_date']\n",
    "    \n",
    "    day = int(date.split('-')[2])\n",
    "    month = int(date.split('-')[1])\n",
    "    year = int(date.split('-')[0])\n",
    "    \n",
    "    hour = int(tod.split(':')[0])\n",
    "    minute = int(tod.split(':')[1])\n",
    "    second = int(tod.split(':')[2])\n",
    "    \n",
    "    # UTC time for NFL games is almost always afternoon? The earliest local time is around 11am, which would be at least 3pm in UTC\n",
    "    if int(hour)<12: \n",
    "        day_obj = dt.date(year, month, day)\n",
    "        day = (day_obj + dt.timedelta(days=1)).day\n",
    "    \n",
    "    timestamp = dt.datetime(year, month, day, hour, minute, second, tzinfo=dt.timezone.utc)\n",
    "    return int(timestamp.timestamp())"
   ]
  },
  {
   "cell_type": "code",
   "execution_count": 16,
   "id": "548e3420",
   "metadata": {},
   "outputs": [
    {
     "data": {
      "text/plain": [
       "({'<in>': 1392, '<out>': 267, '<other>': 166}, 1499)"
      ]
     },
     "execution_count": 16,
     "metadata": {},
     "output_type": "execute_result"
    }
   ],
   "source": [
    "tag_counts = {'<in>': 0, '<out>':0, '<other>': 0}\n",
    "for tag in tag_counts.keys():\n",
    "    for _, row in ann_df.iterrows():\n",
    "        tag_counts[tag] += str(row['tagged_comment']).count(tag)\n",
    "tag_counts, ann_df.shape[0]"
   ]
  },
  {
   "cell_type": "code",
   "execution_count": 17,
   "id": "faa09a66",
   "metadata": {
    "scrolled": true
   },
   "outputs": [
    {
     "data": {
      "text/html": [
       "<div>\n",
       "<style scoped>\n",
       "    .dataframe tbody tr th:only-of-type {\n",
       "        vertical-align: middle;\n",
       "    }\n",
       "\n",
       "    .dataframe tbody tr th {\n",
       "        vertical-align: top;\n",
       "    }\n",
       "\n",
       "    .dataframe thead th {\n",
       "        text-align: right;\n",
       "    }\n",
       "</style>\n",
       "<table border=\"1\" class=\"dataframe\">\n",
       "  <thead>\n",
       "    <tr style=\"text-align: right;\">\n",
       "      <th></th>\n",
       "      <th>post_id</th>\n",
       "      <th>comment_id</th>\n",
       "      <th>tokenized_comment</th>\n",
       "      <th>tagged_comment</th>\n",
       "      <th>ref_expressions</th>\n",
       "      <th>ref_pos</th>\n",
       "      <th>ref_tags</th>\n",
       "      <th>confs</th>\n",
       "      <th>timestamp</th>\n",
       "      <th>parent_id</th>\n",
       "      <th>team</th>\n",
       "      <th>opp</th>\n",
       "      <th>username</th>\n",
       "      <th>flair</th>\n",
       "      <th>votes</th>\n",
       "      <th>gametime</th>\n",
       "      <th>win_prob</th>\n",
       "    </tr>\n",
       "  </thead>\n",
       "  <tbody>\n",
       "    <tr>\n",
       "      <th>0</th>\n",
       "      <td>pmvxko</td>\n",
       "      <td>hcl8hgm</td>\n",
       "      <td>[SENT] I ’m so glad that these things can be determined in week 1 ; there ’s no need for me to watch the rest of the season now !</td>\n",
       "      <td></td>\n",
       "      <td>[]</td>\n",
       "      <td>[]</td>\n",
       "      <td>[]</td>\n",
       "      <td>[5]</td>\n",
       "      <td>1.631470e+09</td>\n",
       "      <td>t1_hcl8cj8</td>\n",
       "      <td>panthers</td>\n",
       "      <td>panthers</td>\n",
       "      <td>all1good</td>\n",
       "      <td>Purrbaca</td>\n",
       "      <td>1.0</td>\n",
       "      <td>0.286</td>\n",
       "      <td>0.422</td>\n",
       "    </tr>\n",
       "    <tr>\n",
       "      <th>1</th>\n",
       "      <td>pu79mu</td>\n",
       "      <td>he18r6i</td>\n",
       "      <td>[SENT] Is it me or is this game fiery and fast paced tonight ?</td>\n",
       "      <td></td>\n",
       "      <td>[]</td>\n",
       "      <td>[]</td>\n",
       "      <td>[]</td>\n",
       "      <td>[5]</td>\n",
       "      <td>1.632445e+09</td>\n",
       "      <td>t3_pu79mu</td>\n",
       "      <td>panthers</td>\n",
       "      <td>panthers</td>\n",
       "      <td>prokreat</td>\n",
       "      <td>NaN</td>\n",
       "      <td>9.0</td>\n",
       "      <td>0.178</td>\n",
       "      <td>0.100</td>\n",
       "    </tr>\n",
       "    <tr>\n",
       "      <th>2</th>\n",
       "      <td>quuhr8</td>\n",
       "      <td>hksqs65</td>\n",
       "      <td>[SENT] Lol all the 🤡 saying this team was only going to lose 1 game after the Titans game .</td>\n",
       "      <td>[SENT] Lol all the 🤡 saying t&lt;in&gt;was only going to lose 1 game after t&lt;other&gt;game .</td>\n",
       "      <td>[his team , he Titans ]</td>\n",
       "      <td>[(29, 38), (75, 85)]</td>\n",
       "      <td>[&lt;in&gt;, &lt;other&gt;]</td>\n",
       "      <td>[5, 5]</td>\n",
       "      <td>1.637027e+09</td>\n",
       "      <td>t3_quuhr8</td>\n",
       "      <td>rams</td>\n",
       "      <td>rams</td>\n",
       "      <td>Dodger_Dawg</td>\n",
       "      <td>Deacon Jones</td>\n",
       "      <td>0.0</td>\n",
       "      <td>0.159</td>\n",
       "      <td>0.744</td>\n",
       "    </tr>\n",
       "    <tr>\n",
       "      <th>3</th>\n",
       "      <td>xbm6xz</td>\n",
       "      <td>io0kw4p</td>\n",
       "      <td>[SENT] lol people writing off the season before halftime of the first game .... give yer fuckin balls a tug</td>\n",
       "      <td>&lt;in&gt; lol people writing off the season before halftime of the first game .... give yer fuckin balls a tug</td>\n",
       "      <td>[[SENT]]</td>\n",
       "      <td>[(0, 6)]</td>\n",
       "      <td>[&lt;in&gt;]</td>\n",
       "      <td>[5]</td>\n",
       "      <td>1.662919e+09</td>\n",
       "      <td>t3_xbm6xz</td>\n",
       "      <td>bengals</td>\n",
       "      <td>bengals</td>\n",
       "      <td>StarchyAndDelicious</td>\n",
       "      <td>:3</td>\n",
       "      <td>12.0</td>\n",
       "      <td>0.231</td>\n",
       "      <td>0.599</td>\n",
       "    </tr>\n",
       "    <tr>\n",
       "      <th>4</th>\n",
       "      <td>qtu5tz</td>\n",
       "      <td>hkmv1b0</td>\n",
       "      <td>[SENT] I cant stop smiling !</td>\n",
       "      <td></td>\n",
       "      <td>[]</td>\n",
       "      <td>[]</td>\n",
       "      <td>[]</td>\n",
       "      <td>[5]</td>\n",
       "      <td>1.636923e+09</td>\n",
       "      <td>t3_qtu5tz</td>\n",
       "      <td>patriots</td>\n",
       "      <td>patriots</td>\n",
       "      <td>lqqk009</td>\n",
       "      <td>NaN</td>\n",
       "      <td>2.0</td>\n",
       "      <td>0.966</td>\n",
       "      <td>0.000</td>\n",
       "    </tr>\n",
       "  </tbody>\n",
       "</table>\n",
       "</div>"
      ],
      "text/plain": [
       "  post_id comment_id  \\\n",
       "0  pmvxko    hcl8hgm   \n",
       "1  pu79mu    he18r6i   \n",
       "2  quuhr8    hksqs65   \n",
       "3  xbm6xz    io0kw4p   \n",
       "4  qtu5tz    hkmv1b0   \n",
       "\n",
       "                                                                                                                    tokenized_comment  \\\n",
       "0  [SENT] I ’m so glad that these things can be determined in week 1 ; there ’s no need for me to watch the rest of the season now !    \n",
       "1                                                                     [SENT] Is it me or is this game fiery and fast paced tonight ?    \n",
       "2                                        [SENT] Lol all the 🤡 saying this team was only going to lose 1 game after the Titans game .    \n",
       "3                        [SENT] lol people writing off the season before halftime of the first game .... give yer fuckin balls a tug    \n",
       "4                                                                                                       [SENT] I cant stop smiling !    \n",
       "\n",
       "                                                                                               tagged_comment  \\\n",
       "0                                                                                                               \n",
       "1                                                                                                               \n",
       "2                        [SENT] Lol all the 🤡 saying t<in>was only going to lose 1 game after t<other>game .    \n",
       "3  <in> lol people writing off the season before halftime of the first game .... give yer fuckin balls a tug    \n",
       "4                                                                                                               \n",
       "\n",
       "           ref_expressions               ref_pos         ref_tags   confs  \\\n",
       "0                       []                    []               []     [5]   \n",
       "1                       []                    []               []     [5]   \n",
       "2  [his team , he Titans ]  [(29, 38), (75, 85)]  [<in>, <other>]  [5, 5]   \n",
       "3                 [[SENT]]              [(0, 6)]           [<in>]     [5]   \n",
       "4                       []                    []               []     [5]   \n",
       "\n",
       "      timestamp   parent_id      team       opp             username  \\\n",
       "0  1.631470e+09  t1_hcl8cj8  panthers  panthers             all1good   \n",
       "1  1.632445e+09   t3_pu79mu  panthers  panthers             prokreat   \n",
       "2  1.637027e+09   t3_quuhr8      rams      rams          Dodger_Dawg   \n",
       "3  1.662919e+09   t3_xbm6xz   bengals   bengals  StarchyAndDelicious   \n",
       "4  1.636923e+09   t3_qtu5tz  patriots  patriots              lqqk009   \n",
       "\n",
       "          flair  votes  gametime  win_prob  \n",
       "0      Purrbaca    1.0     0.286     0.422  \n",
       "1           NaN    9.0     0.178     0.100  \n",
       "2  Deacon Jones    0.0     0.159     0.744  \n",
       "3            :3   12.0     0.231     0.599  \n",
       "4           NaN    2.0     0.966     0.000  "
      ]
     },
     "execution_count": 17,
     "metadata": {},
     "output_type": "execute_result"
    }
   ],
   "source": [
    "ann_df.head()"
   ]
  },
  {
   "cell_type": "code",
   "execution_count": 18,
   "id": "43d547ab",
   "metadata": {},
   "outputs": [],
   "source": [
    "def get_win_prob(row, game_pbp):\n",
    "    wp = 0\n",
    "    game_start = game_pbp.timestamp.min()\n",
    "    game_end = game_pbp.timestamp.max()\n",
    "\n",
    "    if row.timestamp <= game_start:\n",
    "        wp = game_pbp.vegas_home_wp.values[0]\n",
    "    elif row.timestamp >= game_end:\n",
    "        wp = game_pbp.vegas_home_wp.values[-1]\n",
    "    else:\n",
    "        last_pbp = game_pbp[game_pbp.timestamp<row.timestamp].tail(1).to_dict(orient='records')[0]\n",
    "        wp = last_pbp['vegas_home_wp']\n",
    "        home_team_name = teaminfo.loc[teaminfo['team_id']==game_pbp['home_team'].values[0], 'team_name_short'].values[0]\n",
    "        if row['team'] != home_team_name: \n",
    "            wp = 1 - wp\n",
    "    return wp\n",
    "\n",
    "def get_gametime(row, game_pbp):\n",
    "    game_start = game_pbp.timestamp.min()\n",
    "    game_end = game_pbp.timestamp.max()\n",
    "    if row.timestamp<=game_start:\n",
    "        return 0\n",
    "    elif row.timestamp > game_end:\n",
    "        return 1\n",
    "    else:\n",
    "        return (row.timestamp-game_start)/(game_end-game_start)"
   ]
  },
  {
   "cell_type": "code",
   "execution_count": 19,
   "id": "3b3ca823",
   "metadata": {},
   "outputs": [
    {
     "name": "stderr",
     "output_type": "stream",
     "text": [
      "100%|████████████████████████████████████████████████████████████████████████████████████████████████| 746/746 [00:09<00:00, 78.90it/s]\n"
     ]
    }
   ],
   "source": [
    "for pid in tqdm(ann_df.post_id.unique()):\n",
    "    gameid = postinfo.loc[postinfo.post_id==pid, 'game_id'].values[0]\n",
    "    # Get PBP and get timestamp (maybe useful later for scaling the score?)\n",
    "    game_pbp = pbp.loc[pbp['new_game_id']==gameid, ['game_date','time_of_day','posteam', 'home_team', 'desc', 'vegas_home_wp']].reset_index(drop=True)\n",
    "    game_pbp = game_pbp.bfill().ffill()\n",
    "    game_pbp['timestamp'] = game_pbp.apply(lambda x: get_utc_timestamp(x), axis=1)\n",
    "    \n",
    "    new_df = ann_df[ann_df.post_id==pid]\n",
    "    ann_df.loc[ann_df.post_id==pid, 'gametime']  = new_df.apply(lambda x: get_gametime(x, game_pbp), axis=1)\n",
    "    ann_df.loc[ann_df.post_id==pid, 'win_prob'] = new_df.apply(lambda x: get_win_prob(x, game_pbp), axis=1)"
   ]
  },
  {
   "cell_type": "code",
   "execution_count": 20,
   "id": "07eb87c7",
   "metadata": {},
   "outputs": [],
   "source": [
    "ann_df.tagged_comment = ann_df.tagged_comment.apply(lambda x: x.replace('<in>', '[IN]').replace('<out>', '[OUT]').replace('<other>', '[OTHER]'))\n",
    "ann_df.ref_expressions = ann_df.ref_expressions.apply(lambda x: [y.replace('<in>', '[IN]').replace('<out>', '[OUT]').replace('<other>', '[OTHER]') for y in x])\n",
    "ann_df.ref_tags = ann_df.ref_tags.apply(lambda x: [y.replace('<in>', '[IN]').replace('<out>', '[OUT]').replace('<other>', '[OTHER]') for y in x])"
   ]
  },
  {
   "cell_type": "code",
   "execution_count": 21,
   "id": "13d7ea7f",
   "metadata": {},
   "outputs": [
    {
     "data": {
      "text/plain": [
       "(1499, 17)"
      ]
     },
     "execution_count": 21,
     "metadata": {},
     "output_type": "execute_result"
    }
   ],
   "source": [
    "ann_df.shape"
   ]
  },
  {
   "cell_type": "code",
   "execution_count": 22,
   "id": "94430a6b",
   "metadata": {},
   "outputs": [
    {
     "data": {
      "text/html": [
       "<div>\n",
       "<style scoped>\n",
       "    .dataframe tbody tr th:only-of-type {\n",
       "        vertical-align: middle;\n",
       "    }\n",
       "\n",
       "    .dataframe tbody tr th {\n",
       "        vertical-align: top;\n",
       "    }\n",
       "\n",
       "    .dataframe thead th {\n",
       "        text-align: right;\n",
       "    }\n",
       "</style>\n",
       "<table border=\"1\" class=\"dataframe\">\n",
       "  <thead>\n",
       "    <tr style=\"text-align: right;\">\n",
       "      <th></th>\n",
       "      <th>post_id</th>\n",
       "      <th>comment_id</th>\n",
       "      <th>tokenized_comment</th>\n",
       "      <th>tagged_comment</th>\n",
       "      <th>ref_expressions</th>\n",
       "      <th>ref_pos</th>\n",
       "      <th>ref_tags</th>\n",
       "      <th>confs</th>\n",
       "      <th>timestamp</th>\n",
       "      <th>parent_id</th>\n",
       "      <th>team</th>\n",
       "      <th>opp</th>\n",
       "      <th>username</th>\n",
       "      <th>flair</th>\n",
       "      <th>votes</th>\n",
       "      <th>gametime</th>\n",
       "      <th>win_prob</th>\n",
       "    </tr>\n",
       "  </thead>\n",
       "  <tbody>\n",
       "    <tr>\n",
       "      <th>0</th>\n",
       "      <td>pmvxko</td>\n",
       "      <td>hcl8hgm</td>\n",
       "      <td>[SENT] I ’m so glad that these things can be determined in week 1 ; there ’s no need for me to watch the rest of the season now !</td>\n",
       "      <td></td>\n",
       "      <td>[]</td>\n",
       "      <td>[]</td>\n",
       "      <td>[]</td>\n",
       "      <td>[5]</td>\n",
       "      <td>1.631470e+09</td>\n",
       "      <td>t1_hcl8cj8</td>\n",
       "      <td>panthers</td>\n",
       "      <td>panthers</td>\n",
       "      <td>all1good</td>\n",
       "      <td>Purrbaca</td>\n",
       "      <td>1.0</td>\n",
       "      <td>0.286012</td>\n",
       "      <td>0.577765</td>\n",
       "    </tr>\n",
       "    <tr>\n",
       "      <th>1</th>\n",
       "      <td>pu79mu</td>\n",
       "      <td>he18r6i</td>\n",
       "      <td>[SENT] Is it me or is this game fiery and fast paced tonight ?</td>\n",
       "      <td></td>\n",
       "      <td>[]</td>\n",
       "      <td>[]</td>\n",
       "      <td>[]</td>\n",
       "      <td>[5]</td>\n",
       "      <td>1.632445e+09</td>\n",
       "      <td>t3_pu79mu</td>\n",
       "      <td>panthers</td>\n",
       "      <td>panthers</td>\n",
       "      <td>prokreat</td>\n",
       "      <td>NaN</td>\n",
       "      <td>9.0</td>\n",
       "      <td>0.177857</td>\n",
       "      <td>0.899641</td>\n",
       "    </tr>\n",
       "  </tbody>\n",
       "</table>\n",
       "</div>"
      ],
      "text/plain": [
       "  post_id comment_id  \\\n",
       "0  pmvxko    hcl8hgm   \n",
       "1  pu79mu    he18r6i   \n",
       "\n",
       "                                                                                                                    tokenized_comment  \\\n",
       "0  [SENT] I ’m so glad that these things can be determined in week 1 ; there ’s no need for me to watch the rest of the season now !    \n",
       "1                                                                     [SENT] Is it me or is this game fiery and fast paced tonight ?    \n",
       "\n",
       "  tagged_comment ref_expressions ref_pos ref_tags confs     timestamp  \\\n",
       "0                             []      []       []   [5]  1.631470e+09   \n",
       "1                             []      []       []   [5]  1.632445e+09   \n",
       "\n",
       "    parent_id      team       opp  username     flair  votes  gametime  \\\n",
       "0  t1_hcl8cj8  panthers  panthers  all1good  Purrbaca    1.0  0.286012   \n",
       "1   t3_pu79mu  panthers  panthers  prokreat       NaN    9.0  0.177857   \n",
       "\n",
       "   win_prob  \n",
       "0  0.577765  \n",
       "1  0.899641  "
      ]
     },
     "execution_count": 22,
     "metadata": {},
     "output_type": "execute_result"
    }
   ],
   "source": [
    "ann_df.head(2)"
   ]
  },
  {
   "cell_type": "code",
   "execution_count": 23,
   "id": "ac811354",
   "metadata": {},
   "outputs": [],
   "source": [
    "def add_explanation(row, cname, edf):\n",
    "    # ipdb.set_trace()\n",
    "    if row.comment_id in edf.comment_id.values:\n",
    "        row[cname] = edf.loc[edf.comment_id==row.comment_id, 'explanation'].values[0]\n",
    "    else:\n",
    "        row[cname] = \"No explicit or implicit references to tag.\"\n",
    "    return row\n",
    "            \n",
    "exp_df = pd.read_csv('../modeling/model-outputs/gpt-4o/explanations.txt', names=['comment_id', 'explanation'], sep='^([a-z0-9]{7})\\,', engine='python')\n",
    "exp_wp_df = pd.read_csv('../modeling/model-outputs/gpt-4o/explanations+wp.txt', names=['comment_id', 'explanation'], sep='^([a-z0-9]{7})\\,', engine='python')\n",
    "\n",
    "ann_df['explanation'] = ''\n",
    "ann_df['explanation+wp'] = ''\n",
    "\n",
    "ann_df = ann_df.apply(lambda x: add_explanation(x, 'explanation', exp_df), axis=1)\n",
    "ann_df = ann_df.apply(lambda x: add_explanation(x, 'explanation+wp', exp_wp_df), axis=1)"
   ]
  },
  {
   "cell_type": "markdown",
   "id": "a91054ff-521c-4626-859a-6919d7e70bcc",
   "metadata": {},
   "source": [
    "## Split and save"
   ]
  },
  {
   "cell_type": "code",
   "execution_count": 24,
   "id": "c7f442ac",
   "metadata": {},
   "outputs": [],
   "source": [
    "random.seed(1)\n",
    "ann_df['split'] = ann_df.apply(lambda x: 'train' if random.random()<0.8 else 'test', axis=1)"
   ]
  },
  {
   "cell_type": "code",
   "execution_count": 25,
   "id": "58ed4608",
   "metadata": {},
   "outputs": [
    {
     "data": {
      "text/plain": [
       "Counter({'train': 1181, 'test': 318})"
      ]
     },
     "execution_count": 25,
     "metadata": {},
     "output_type": "execute_result"
    }
   ],
   "source": [
    "Counter(ann_df.split)"
   ]
  },
  {
   "cell_type": "code",
   "execution_count": 26,
   "id": "6aeff320",
   "metadata": {},
   "outputs": [
    {
     "data": {
      "text/plain": [
       "(78, 20)"
      ]
     },
     "execution_count": 26,
     "metadata": {},
     "output_type": "execute_result"
    }
   ],
   "source": [
    "ann_df[((ann_df.split=='test') & (ann_df.explanation==\"No explicit or implicit references to tag.\"))].shape"
   ]
  },
  {
   "cell_type": "code",
   "execution_count": 27,
   "id": "c5fb09ac",
   "metadata": {},
   "outputs": [],
   "source": [
    "# ann_df.loc[ann_df.tagged_comment.isna(), 'ref_expressions']\n",
    "def handle_empties(row):\n",
    "    if row.tagged_comment=='':\n",
    "        row.tagged_comment = row.tokenized_comment\n",
    "    return row\n",
    "\n",
    "ann_df = ann_df.apply(lambda x: handle_empties(x), axis=1)"
   ]
  },
  {
   "cell_type": "code",
   "execution_count": 28,
   "id": "2901696b-c7d3-41e6-a48d-48d108dd640a",
   "metadata": {},
   "outputs": [
    {
     "name": "stderr",
     "output_type": "stream",
     "text": [
      "100%|██████████████████████████████████████████████████████████████████████████████████████████████| 1499/1499 [01:39<00:00, 15.05it/s]\n"
     ]
    }
   ],
   "source": [
    "def parent_comment(row):\n",
    "    parent_id = row['parent_id']\n",
    "    if parent_id[:2] == 't1':\n",
    "        if parent_id in df.comment_id.values:\n",
    "            parent_comment = df[df.comment_id==parent_id[3:], 'clean_comment'].values[0]\n",
    "        else:\n",
    "            parent_comment=\"None\"\n",
    "    else:\n",
    "        parent_comment = \"None\"\n",
    "\n",
    "    return parent_comment\n",
    "\n",
    "ann_df['parent_comment'] = ann_df.progress_apply(lambda x: parent_comment(x), axis=1)"
   ]
  },
  {
   "cell_type": "code",
   "execution_count": 29,
   "id": "03c9db79",
   "metadata": {},
   "outputs": [],
   "source": [
    "ann_df.to_csv('../data/gold_data.tsv', sep='\\t', quoting=csv.QUOTE_NONE, escapechar=\"\\\\\", index=False, columns=['split', 'post_id', 'comment_id', 'parent_id', 'tokenized_comment', 'tagged_comment', 'parent_comment', 'ref_expressions', 'ref_pos', 'ref_tags', 'confs', 'explanation+wp', 'explanation', 'timestamp', 'team', 'opp', 'username', 'flair', 'votes', 'win_prob', 'gametime'])"
   ]
  },
  {
   "cell_type": "code",
   "execution_count": 34,
   "id": "7fe44652-d4e9-4139-ab1c-65bb6c4e3ee6",
   "metadata": {},
   "outputs": [],
   "source": [
    "usernames = ann_df.username.unique()\n",
    "username_to_anon = dict(zip(usernames, range(len(usernames))))"
   ]
  },
  {
   "cell_type": "code",
   "execution_count": 35,
   "id": "f2b0d767-c7c3-4a20-8529-7ef31d5332e2",
   "metadata": {},
   "outputs": [],
   "source": [
    "ann_df['username_anon'] = ann_df['username'].apply(lambda x: username_to_anon[x])"
   ]
  },
  {
   "cell_type": "code",
   "execution_count": 36,
   "id": "c3c1b4aa-3ab0-4b21-a0c1-062a86c3cec6",
   "metadata": {},
   "outputs": [],
   "source": [
    "ann_df.to_csv('../../intergroup-nfl/data/gold_data.tsv', sep='\\t', quoting=csv.QUOTE_NONE, escapechar=\"\\\\\", index=False, columns=['split', 'post_id', 'comment_id', 'parent_id', 'tagged_comment', 'ref_expressions', 'ref_pos', 'ref_tags', 'confs', 'explanation', 'explanation+wp', 'timestamp', 'team', 'opp', 'username_anon', 'flair', 'votes', 'win_prob', 'gametime'])"
   ]
  },
  {
   "cell_type": "code",
   "execution_count": null,
   "id": "adc94302-c62b-40da-9259-2f2db01a1730",
   "metadata": {},
   "outputs": [],
   "source": []
  }
 ],
 "metadata": {
  "kernelspec": {
   "display_name": "Python 3 (ipykernel)",
   "language": "python",
   "name": "python3"
  },
  "language_info": {
   "codemirror_mode": {
    "name": "ipython",
    "version": 3
   },
   "file_extension": ".py",
   "mimetype": "text/x-python",
   "name": "python",
   "nbconvert_exporter": "python",
   "pygments_lexer": "ipython3",
   "version": "3.10.0"
  }
 },
 "nbformat": 4,
 "nbformat_minor": 5
}
