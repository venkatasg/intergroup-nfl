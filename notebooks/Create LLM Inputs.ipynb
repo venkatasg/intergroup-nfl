{
 "cells": [
  {
   "cell_type": "code",
   "execution_count": 1,
   "id": "fe4a7126-fdf0-4255-89f6-64c53695ca93",
   "metadata": {},
   "outputs": [
    {
     "data": {
      "text/plain": [
       "RandomState(MT19937) at 0x1285FB040"
      ]
     },
     "execution_count": 1,
     "metadata": {},
     "output_type": "execute_result"
    }
   ],
   "source": [
    "import pandas as pd\n",
    "import random\n",
    "import numpy as np\n",
    "from tqdm import tqdm\n",
    "from math import sin, pi\n",
    "import ipdb\n",
    "import re\n",
    "import csv\n",
    "import datetime as dt\n",
    "from copy import deepcopy\n",
    "from glob import glob\n",
    "import ast\n",
    "from collections import Counter\n",
    "from IPython.core.debugger import set_trace\n",
    "import datasets\n",
    "\n",
    "tqdm.pandas()\n",
    "\n",
    "pd.set_option('display.max_rows', 100)\n",
    "pd.set_option('display.max_columns', 100)\n",
    "pd.set_option('display.width', None)\n",
    "pd.set_option('display.max_colwidth', None)\n",
    "pd.set_option('chained_assignment',None)\n",
    "\n",
    "# Set random seeds for reproducibility on a specific machine\n",
    "random.seed(1)\n",
    "np.random.seed(1)\n",
    "np.random.RandomState(1)"
   ]
  },
  {
   "cell_type": "code",
   "execution_count": 16,
   "id": "f84af713-6697-4ffc-9530-1be20d8a798d",
   "metadata": {},
   "outputs": [
    {
     "data": {
      "application/vnd.jupyter.widget-view+json": {
       "model_id": "8e68071ca7ed433891dccf02269719a7",
       "version_major": 2,
       "version_minor": 0
      },
      "text/plain": [
       "Map:   0%|          | 0/1499 [00:00<?, ? examples/s]"
      ]
     },
     "metadata": {},
     "output_type": "display_data"
    },
    {
     "data": {
      "application/vnd.jupyter.widget-view+json": {
       "model_id": "af2ab579d1d8436d83c14597826ad5e6",
       "version_major": 2,
       "version_minor": 0
      },
      "text/plain": [
       "Map:   0%|          | 0/1499 [00:00<?, ? examples/s]"
      ]
     },
     "metadata": {},
     "output_type": "display_data"
    },
    {
     "data": {
      "application/vnd.jupyter.widget-view+json": {
       "model_id": "0dd95006f95644398f3b806fdd3723d4",
       "version_major": 2,
       "version_minor": 0
      },
      "text/plain": [
       "Filter:   0%|          | 0/1499 [00:00<?, ? examples/s]"
      ]
     },
     "metadata": {},
     "output_type": "display_data"
    },
    {
     "data": {
      "application/vnd.jupyter.widget-view+json": {
       "model_id": "a5350db07ed54a3cb692ec0f6d7d7ab7",
       "version_major": 2,
       "version_minor": 0
      },
      "text/plain": [
       "Filter:   0%|          | 0/1499 [00:00<?, ? examples/s]"
      ]
     },
     "metadata": {},
     "output_type": "display_data"
    }
   ],
   "source": [
    "data = datasets.load_dataset('csv', data_files='../data/test_data.tsv', sep='\\t', index_col=None, quoting=csv.QUOTE_NONE, escapechar='\\\\')['train']\n",
    "\n",
    "def wp_to_description(row):\n",
    "    if ((row['win_prob']>=0) and (row['win_prob']<0.1)):\n",
    "        row['game_state'] = row['opp'].title() + \" are extremely likely to win.\"\n",
    "    elif ((row['win_prob']>=0.1) and (row['win_prob']<0.25)):\n",
    "        row['game_state'] = row['opp'].title() + \" are likely to win.\"\n",
    "    elif ((row['win_prob']>=0.25) and (row['win_prob']<0.48)):\n",
    "        row['game_state'] = row['opp'].title() + \" are slightly likely to win.\"\n",
    "    elif ((row['win_prob']>=0.52) and (row['win_prob']<0.75)):\n",
    "        row['game_state'] = row['team'].title() + \" are slightly likely to win.\" \n",
    "    elif ((row['win_prob']>=0.75) and (row['win_prob']<0.9)):\n",
    "        row['game_state'] = row['team'].title() + \" are likely to win.\"\n",
    "    elif ((row['win_prob']>=0.9) and (row['win_prob']<=1)):\n",
    "        row['game_state'] = row['team'].title() + \" are extremely likely to win.\"   \n",
    "    else:\n",
    "        row['game_state'] = \"Both teams are equally likely to win.\" \n",
    "    return row\n",
    "\n",
    "data = data.map(wp_to_description)\n",
    "\n",
    "with open('prompts/llama-wp-ling.txt') as f:\n",
    "    instructions = f.read()\n",
    "        \n",
    "def create_input_context(row):\n",
    "    '''\n",
    "    Takes an input row, and makes a long string with instruction, comment, in-group team, out-group team, as well as win probability.\n",
    "    '''  \n",
    "    \n",
    "    row['input'] = (\n",
    "        \"COMMENT: \" + row[\"tokenized_comment\"] + \"\\n\" +\n",
    "        \"IN-GROUP: \" + row['team'].title() + \"\\n\" +\n",
    "        \"OUT-GROUP: \" + row['opp'].title() + \"\\n\" +\n",
    "        \"GAME STATE: \" + row['game_state'] + \"\\n\"\n",
    "        \"REF_EXPRESSIONS: \"\n",
    "    )\n",
    "    \n",
    "    row['output'] = (\n",
    "         str(row['ref_expressions']) + \"\\n\"\n",
    "        \"EXPLANATION: \" + str(row['explanation']) + \"\\n\"\n",
    "        \"TARGET: \" + str(row['tagged_comment'])\n",
    "    )\n",
    "    \n",
    "    row['instruction'] = instructions  \n",
    "    row['weight'] = [np.round(sin(row['win_prob']*pi), 3)+0.5]\n",
    "    return row\n",
    "\n",
    "data = data.map(create_input_context)\n",
    "train_data = data.filter(lambda row: row['split']=='train').select_columns(['instruction', 'input', 'output'])\n",
    "eval_data = data.filter(lambda row: row['split']=='test').select_columns(['instruction', 'input', 'output'])"
   ]
  },
  {
   "cell_type": "code",
   "execution_count": 17,
   "id": "09d4073f-4da4-4cf6-aeaf-d6dfbc873ce2",
   "metadata": {},
   "outputs": [],
   "source": [
    "train_json = train_data.to_pandas().to_json(orient='records', indent=4, force_ascii=False)\n",
    "with open('data/all_train_ling_wp.json', 'w') as f:\n",
    "    f.write(train_json)\n",
    "    \n",
    "eval_json = eval_data.to_pandas().to_json(orient='records', indent=4, force_ascii=False)\n",
    "with open('data/all_eval_ling_wp.json', 'w') as f:\n",
    "    f.write(eval_json)"
   ]
  },
  {
   "cell_type": "code",
   "execution_count": 26,
   "id": "814c5091-e264-45dc-b76f-6f61bb0c9562",
   "metadata": {},
   "outputs": [],
   "source": [
    "with open('model-outputs/ref-inputs.txt', 'w') as f:\n",
    "    for line in eval_data['input']:\n",
    "        f.write(line[9:-18].replace('\\n', ' ') + \"\\n\")"
   ]
  },
  {
   "cell_type": "code",
   "execution_count": null,
   "id": "3e6c5b28-8540-452b-9371-dbfc680fb34a",
   "metadata": {},
   "outputs": [],
   "source": []
  }
 ],
 "metadata": {
  "kernelspec": {
   "display_name": "Python 3 (ipykernel)",
   "language": "python",
   "name": "python3"
  },
  "language_info": {
   "codemirror_mode": {
    "name": "ipython",
    "version": 3
   },
   "file_extension": ".py",
   "mimetype": "text/x-python",
   "name": "python",
   "nbconvert_exporter": "python",
   "pygments_lexer": "ipython3",
   "version": "3.10.0"
  }
 },
 "nbformat": 4,
 "nbformat_minor": 5
}
